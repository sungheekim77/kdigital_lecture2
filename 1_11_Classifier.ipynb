{
 "cells": [
  {
   "cell_type": "markdown",
   "metadata": {},
   "source": [
    "## classifier "
   ]
  },
  {
   "cell_type": "code",
   "execution_count": 1,
   "metadata": {},
   "outputs": [
    {
     "data": {
      "text/plain": [
       "RandomForestClassifier(random_state=0)"
      ]
     },
     "execution_count": 1,
     "metadata": {},
     "output_type": "execute_result"
    }
   ],
   "source": [
    "from sklearn.ensemble import RandomForestClassifier\n",
    "\n",
    "## 변수를 임으로 clf로 지정하고 여러변수 중에 random_state를 0으로 설정함\n",
    "## 0이 아니라도 뭐든 지정가능.. 이게 다르면 같은 결과값이 안나옴\n",
    "clf = RandomForestClassifier(random_state=0)\n",
    "X = [[1, 2, 3],[11, 12, 13]]\n",
    "## 여기는 독립변수가 2개라서 종속도 2개 준거\n",
    "y = [0, 1]\n",
    "## fit이라는 모델로 학습을 시키겠다 X는 독립변수 , Y는 종속변수\n",
    "clf.fit(X,y)"
   ]
  },
  {
   "cell_type": "code",
   "execution_count": 2,
   "metadata": {},
   "outputs": [
    {
     "data": {
      "text/plain": [
       "array([0, 1])"
      ]
     },
     "execution_count": 2,
     "metadata": {},
     "output_type": "execute_result"
    }
   ],
   "source": [
    "## 여기는 내가 넣은 독립변수랑 모양이 같아야함\n",
    "clf.predict(X)"
   ]
  },
  {
   "cell_type": "code",
   "execution_count": 3,
   "metadata": {},
   "outputs": [
    {
     "data": {
      "text/plain": [
       "array([1])"
      ]
     },
     "execution_count": 3,
     "metadata": {},
     "output_type": "execute_result"
    }
   ],
   "source": [
    "## 여기는 내가 넣은 독립변수 X랑 모양이 같아야함, 즉 X가 X=[[]]니까 [[]]형태로 넣기\n",
    "clf.predict([[234, 23, 456]])"
   ]
  },
  {
   "cell_type": "code",
   "execution_count": 4,
   "metadata": {},
   "outputs": [],
   "source": [
    "import numpy as np"
   ]
  },
  {
   "cell_type": "code",
   "execution_count": 9,
   "metadata": {},
   "outputs": [
    {
     "data": {
      "text/plain": [
       "((12,), (12,))"
      ]
     },
     "execution_count": 9,
     "metadata": {},
     "output_type": "execute_result"
    }
   ],
   "source": [
    "##여기도 RandomState를 10으로 줘서..몇번재실행해도 같은 결과 나오는거!\n",
    "rs = np.random.RandomState(10)\n",
    "## 임의의난수를 5개 만들어라 rand(5)\n",
    "x = 10*rs.rand(12)\n",
    "## y에도 난수를 곱해서 빼줘서 임의의수를 만들어냄 \n",
    "y = 2*x - 1*rs.rand(12)\n",
    "x.shape, y.shape"
   ]
  },
  {
   "cell_type": "code",
   "execution_count": 12,
   "metadata": {},
   "outputs": [
    {
     "data": {
      "text/plain": [
       "array([7.71320643, 0.20751949, 6.33648235, 7.48803883, 4.98507012,\n",
       "       2.24796646, 1.98062865, 7.60530712, 1.69110837, 0.88339814,\n",
       "       6.85359818, 9.53393346])"
      ]
     },
     "execution_count": 12,
     "metadata": {},
     "output_type": "execute_result"
    }
   ],
   "source": [
    "x"
   ]
  },
  {
   "cell_type": "code",
   "execution_count": 23,
   "metadata": {},
   "outputs": [
    {
     "data": {
      "text/plain": [
       "(3, 4)"
      ]
     },
     "execution_count": 23,
     "metadata": {},
     "output_type": "execute_result"
    }
   ],
   "source": [
    "## 지금 위에 x는 그냥 12개 값이 이어지는데 그걸 행열로 맞출려고 3*4이라고 씀\n",
    "## 혹은 (-1,4)라고 적으면 자동으로 3*4를 만들어줌, 해석하면 뒤는 4로 앞은 알아서해줘 (-1)\n",
    "X = x.reshape(-1,4)\n",
    "X.shape"
   ]
  },
  {
   "cell_type": "code",
   "execution_count": 24,
   "metadata": {},
   "outputs": [
    {
     "data": {
      "text/plain": [
       "array([[7.71320643, 0.20751949, 6.33648235, 7.48803883],\n",
       "       [4.98507012, 2.24796646, 1.98062865, 7.60530712],\n",
       "       [1.69110837, 0.88339814, 6.85359818, 9.53393346]])"
      ]
     },
     "execution_count": 24,
     "metadata": {},
     "output_type": "execute_result"
    }
   ],
   "source": [
    "X"
   ]
  },
  {
   "cell_type": "code",
   "execution_count": null,
   "metadata": {},
   "outputs": [],
   "source": []
  }
 ],
 "metadata": {
  "kernelspec": {
   "display_name": "Python 3",
   "language": "python",
   "name": "python3"
  },
  "language_info": {
   "codemirror_mode": {
    "name": "ipython",
    "version": 3
   },
   "file_extension": ".py",
   "mimetype": "text/x-python",
   "name": "python",
   "nbconvert_exporter": "python",
   "pygments_lexer": "ipython3",
   "version": "3.8.5"
  }
 },
 "nbformat": 4,
 "nbformat_minor": 4
}
