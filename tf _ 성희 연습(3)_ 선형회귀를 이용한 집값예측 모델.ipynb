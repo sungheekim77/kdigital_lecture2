{
 "cells": [
  {
   "cell_type": "markdown",
   "metadata": {},
   "source": [
    "## 이론:선형회귀에 대한 이해 / 오차와 COST함수/모델 파라미터 최적화/ 경사하강법/ TF를 이용한 선형회기구현"
   ]
  },
  {
   "cell_type": "markdown",
   "metadata": {},
   "source": [
    "[ 선형회귀에 대한 이해]\n",
    "상관수치를 파악할수 있음(EX. 광고비지출에 따른 매출증가량/ 특정요인에따른 집값변화 분석)\n",
    "    데이터간 어느정도 상관이 있어야함"
   ]
  },
  {
   "cell_type": "markdown",
   "metadata": {},
   "source": [
    "[오차]랜덤으로 구한 두값 / 데이터중 가장큰거,작은거로 이루어진 직선들은 차원이 많아지면 그래프로 그려서 파악을 하지못함 => 수치화할 필요가 생김\n",
    "이때 실제 y와 가설로 나온 y값(h)의 차인 y-h를 이용가능함"
   ]
  },
  {
   "cell_type": "markdown",
   "metadata": {},
   "source": [
    "[오차구하는 종류]오차는 +-모두 발생하니까 절대값으로 구하거나(평균절대값오차), 구한값을 제곱해서 평균으로(평균제곱오차), 혹은 구한값을 제곱평균후 루트(평균제곱근오차) 하는 세가지 방법이 있음: 주로 평균제곱근오차 사용"
   ]
  },
  {
   "cell_type": "markdown",
   "metadata": {},
   "source": [
    "[COST함수(w,b)]데이터로 추정한 학습모델이 데이터를 얼마나 잘 설명하는가? \n",
    "전체데이터에 대한 오차를 의미하는 cost로 정의가능(평균제곱근오차)\n",
    "cost 낮으면 -> 학습잘된거, cost 높으면 -> 학습잘안된거\n",
    "우리가 기울기와 w와 y절편b를 구해서 cost를 구해야함!"
   ]
  },
  {
   "cell_type": "markdown",
   "metadata": {},
   "source": [
    "[모델 파라미터 최적화]즉 선형회기에서는 cost함수가 최소가 되는 w,b를 찾아야함\n",
    "그런데 w는 여러개일수도, 범위도 +-무한대임..(아까 주가예측에서는 w가 실업률와 이자율 두가지였지만, 지금 보스턴집값에서의 w는 정말다양함) 이걸해결하려고 경향성분석(w에 따른 cost의 변화)을함"
   ]
  },
  {
   "cell_type": "markdown",
   "metadata": {},
   "source": [
    "[경사하강법]w에 따른 cost의 변화: 각점에서의 기울기를 보면 cost가0일때 기울기도 0이군 이렇게 기울기를 이용해 최적의 w를 찾아가는 방법 **이때 학습률 알파의 개념등장: 알파가 크면 성큼성큼 빠르게 최저지점을 찾아감 하지만 최저를 그냥지나칠수 있음/ 알파가 작으면 조금씩이동하며 최저지점을 찾아감 하지만 이동횟수가 많아지니 속도가 느려짐. ** 최적의 w를 구하면 그값에서 기울기가 거의 0이기 때문에 w가 변화하지 않음. 그때 y=최적의w*x라는 학습모델을 도출  **w의 기울기가 갑자기 떨어지는 구간: 정답에서 멀고 학습이 빠르게 이루어짐 **w의 기울기가 거의변화가 없는구간: 정답에서 가깝고 학습이 천천히 이루어짐"
   ]
  },
  {
   "cell_type": "markdown",
   "metadata": {},
   "source": [
    "이때 w만 경사하강하면 1차원(b=0으로 가정), w와 b모두 경사하강하면 다차원"
   ]
  },
  {
   "cell_type": "markdown",
   "metadata": {},
   "source": [
    "## 선형회기 1) 학습데이터 x와 출력값y 정하기 2) 학습모델 정의 H(x)=wx+b 3) 학습방법(cost함수정의 -> 비용최소화 되도록 최적화 -> 경사하강이용해서 w,b추정) 4) 예측 :w,b를 사용해 y값 예측하기"
   ]
  },
  {
   "cell_type": "code",
   "execution_count": 1,
   "metadata": {},
   "outputs": [
    {
     "name": "stdout",
     "output_type": "stream",
     "text": [
      "WARNING:tensorflow:From C:\\Users\\Mr. Jae-Hong Seo\\anaconda3\\envs\\study\\lib\\site-packages\\tensorflow_core\\python\\compat\\v2_compat.py:65: disable_resource_variables (from tensorflow.python.ops.variable_scope) is deprecated and will be removed in a future version.\n",
      "Instructions for updating:\n",
      "non-resource variables are not supported in the long term\n"
     ]
    }
   ],
   "source": [
    "import tensorflow.compat.v1 as tf\n",
    "\n",
    "tf.disable_v2_behavior()\n",
    "\n",
    "import numpy as np\n",
    "import matplotlib.pyplot as plt\n",
    "%matplotlib inline"
   ]
  },
  {
   "cell_type": "markdown",
   "metadata": {},
   "source": [
    "## 1단계 : x와 출력값 y정의\n",
    "## 2단계 : 학습모델과 cost함수정의"
   ]
  },
  {
   "cell_type": "code",
   "execution_count": 2,
   "metadata": {},
   "outputs": [],
   "source": [
    "## 1단계 : x와 출력값 y정의\n",
    "x_data =[1.0,2,3,4]\n",
    "y_data =[1.1,2.2,3,4.2]\n",
    "\n",
    "\n",
    "w = tf.placeholder(tf.float32)\n",
    "x = tf.placeholder(tf.float32)\n",
    "y = tf.placeholder(tf.float32)\n",
    "## error = hypothesis - y\n",
    "hypothesis = w*x  # 예측값 h는 w와 x를 곱한값\n",
    "## cost함수정의\n",
    "cost =tf.reduce_mean(tf.square(hypothesis - y))"
   ]
  },
  {
   "cell_type": "code",
   "execution_count": 3,
   "metadata": {},
   "outputs": [
    {
     "name": "stdout",
     "output_type": "stream",
     "text": [
      "Tensor(\"Mean:0\", shape=(), dtype=float32)\n",
      "190.7725\n"
     ]
    }
   ],
   "source": [
    "import tensorflow as tf\n",
    "tf.compat.v1.disable_eager_execution()\n",
    "sess=tf.compat.v1.Session()\n",
    "\n",
    "c = sess.run(cost, feed_dict={x:x_data, y:y_data, w:-4})## dict으로 값을 공급함\n",
    "print(cost)\n",
    "print(c)"
   ]
  },
  {
   "cell_type": "markdown",
   "metadata": {},
   "source": [
    "w가 -4일때 c값이 190.77이군(에러가 매우크군)"
   ]
  },
  {
   "cell_type": "code",
   "execution_count": 4,
   "metadata": {},
   "outputs": [
    {
     "name": "stdout",
     "output_type": "stream",
     "text": [
      "122.622505\n",
      "69.4725\n",
      "31.322498\n",
      "8.1725\n"
     ]
    }
   ],
   "source": [
    "## w값을 바꿔가면서 cost값의 변화를 보자구\n",
    "c = sess.run(cost, feed_dict={x:x_data, y:y_data, w:-3})## dict으로 값을 공급함\n",
    "print(c)\n",
    "c = sess.run(cost, feed_dict={x:x_data, y:y_data, w:-2})## dict으로 값을 공급함\n",
    "print(c)\n",
    "c = sess.run(cost, feed_dict={x:x_data, y:y_data, w:-1})## dict으로 값을 공급함\n",
    "print(c)\n",
    "c = sess.run(cost, feed_dict={x:x_data, y:y_data, w:0})## dict으로 값을 공급함\n",
    "print(c)"
   ]
  },
  {
   "cell_type": "markdown",
   "metadata": {},
   "source": [
    "오 w가 0에가가울때 cost가 점점줄었군"
   ]
  },
  {
   "cell_type": "code",
   "execution_count": 5,
   "metadata": {},
   "outputs": [
    {
     "name": "stdout",
     "output_type": "stream",
     "text": [
      "-4 190.7725\n",
      "-3 122.622505\n",
      "-2 69.4725\n",
      "-1 31.322498\n",
      "0 8.1725\n",
      "1 0.022499986\n",
      "2 6.8725004\n",
      "3 28.7225\n",
      "4 65.5725\n",
      "5 117.4225\n",
      "6 184.27249\n"
     ]
    }
   ],
   "source": [
    "##매번 수기로 w값 설정을 바꿀수 없으니 for로 함수만듬\n",
    "for value in [-4,-3,-2,-1,0,1,2,3,4,5,6]:\n",
    "    c = sess.run(cost, feed_dict={x:x_data, y:y_data, w:value})\n",
    "    print(value, c)"
   ]
  },
  {
   "cell_type": "code",
   "execution_count": 6,
   "metadata": {},
   "outputs": [
    {
     "data": {
      "text/plain": [
       "[<matplotlib.lines.Line2D at 0x19fc83c3eb8>]"
      ]
     },
     "execution_count": 6,
     "metadata": {},
     "output_type": "execute_result"
    },
    {
     "data": {
      "image/png": "[encoded data removed]",
      "text/plain": [
       "<Figure size 432x288 with 1 Axes>"
      ]
     },
     "metadata": {
      "needs_background": "light"
     },
     "output_type": "display_data"
    }
   ],
   "source": [
    "## w값 변화에 따른 cost변화를 그래프로 나타내어보까나\n",
    "cs = [] ## 함수를 선언하고\n",
    "for v in [-4,-3,-2,-1,0,1,2,3,4,5,6]:\n",
    "    c = sess.run(cost, feed_dict={x:x_data, y:y_data, w:v})\n",
    "    cs.append(c)\n",
    "plt.plot([-4,-3,-2,-1,0,1,2,3,4,5,6],cs)"
   ]
  },
  {
   "cell_type": "code",
   "execution_count": 7,
   "metadata": {},
   "outputs": [
    {
     "name": "stdout",
     "output_type": "stream",
     "text": [
      "0.009212394\n",
      "501\n",
      "1.0330330330330337\n"
     ]
    },
    {
     "data": {
      "image/png": "[encoded data removed]",
      "text/plain": [
       "<Figure size 432x288 with 1 Axes>"
      ]
     },
     "metadata": {
      "needs_background": "light"
     },
     "output_type": "display_data"
    }
   ],
   "source": [
    "## w값 변화에 따른 cost변화를 그래프로 나타내어보까나(w가 정수가 아니라면)\n",
    "cs = []\n",
    "fromto = np.linspace(-10, 12,1000) ## w범위를 -10부터 12사이에 1000개 범위로\n",
    "for v in fromto:\n",
    "    c = sess.run(cost, feed_dict={x:x_data, y:y_data, w:v})\n",
    "    cs.append(c)\n",
    "plt.plot(fromto, cs)\n",
    "\n",
    "print(np.array(cs).min())  ## cost가 최소일때값\n",
    "print(np.array(cs).argmin())## cost가 최소일때 w의 인덱스\n",
    "print(fromto[np.array(cs).argmin()]) ## cost가 최소일때 w의 값"
   ]
  },
  {
   "cell_type": "code",
   "execution_count": 8,
   "metadata": {},
   "outputs": [],
   "source": [
    "## w값 변화에 따른 cost변화를 그래프로 나타내어보까나(+-무한대범위: 이제 tf이용)\n",
    "## tf를 활용한 경사하강법\n",
    "## 이건 tensorflow의 버전문제로 placeholder가 구현안되서 넣어준거\n",
    "import tensorflow.compat.v1 as tf\n",
    "tf.disable_v2_behavior()\n",
    "\n",
    "learning_rate = 0.1 ## 학습률 알파를 0.1로 설정했음\n",
    "\n",
    "## 이제 w가 내부적으로 업데이트 되어야하는 학습파라미터임, 그래서 변수타입을줌\n",
    "w = tf.Variable(2.0) ## 기울기 초기값을 2.0으로 설정함\n",
    "x = tf.placeholder(tf.float32)\n",
    "y = tf.placeholder(tf.float32)\n",
    "## 학습모델정의\n",
    "hypothesis = w*x  # 예측값 h는 w와 x를 곱한값\n",
    "## error = hypothesis - y\n",
    "cost =tf.reduce_mean(tf.square(hypothesis - y))\n",
    "\n",
    "## 모든 w지점에서의 기울기\n",
    "gradient = tf.reduce_mean((w*x-y)*x)\n",
    "\n",
    "# w = w - 학습율 알파(learning_rate) * gradient\n",
    "descent = w- learning_rate*gradient\n",
    "update = w.assign(descent) ## tf에서 호출시 마다 w가 업데이트됨"
   ]
  },
  {
   "cell_type": "code",
   "execution_count": 15,
   "metadata": {},
   "outputs": [
    {
     "name": "stdout",
     "output_type": "stream",
     "text": [
      "0.43742207 1.2825\n"
     ]
    }
   ],
   "source": [
    "### init이 버전충돌로 안되서 이명령어를 적음\n",
    "## 변수타입 텐서를 초기화 init하기\n",
    "import tensorflow as tf\n",
    "init =tf.compat.v1.global_variables_initializer()\n",
    "sess.run(init)\n",
    "\n",
    "## 학습데이터를 사용해 w를 업데이트하고\n",
    "sess.run(update, feed_dict={x:x_data, y:y_data})\n",
    "## 업데이트이후의 cost와 w를 출력하기\n",
    "c,w_ = sess.run([cost, w], feed_dict={x:x_data, y:y_data})\n",
    "print(c, w_)"
   ]
  },
  {
   "cell_type": "markdown",
   "metadata": {},
   "source": [
    "2.0의 w를 cost가 작아지는 방향으로 첫번째업데이트 했을때의  나오는 cost와 w값(w는 2.0에서 1.28로 줄었군)"
   ]
  },
  {
   "cell_type": "code",
   "execution_count": 16,
   "metadata": {},
   "outputs": [
    {
     "name": "stdout",
     "output_type": "stream",
     "text": [
      "0.03522947 1.103125\n",
      "0.01009246 1.0582812\n",
      "0.008521404 1.0470703\n"
     ]
    }
   ],
   "source": [
    "### 그럼 여러번 반복(업데이트) 해서 변화를 보자구\n",
    "\n",
    "## 학습데이터를 사용해 w를 업데이트하고\n",
    "sess.run(update, feed_dict={x:x_data, y:y_data})\n",
    "## 업데이트이후의 cost와 w를 출력하기\n",
    "c,w_ = sess.run([cost, w], feed_dict={x:x_data, y:y_data})\n",
    "print(c, w_)\n",
    "\n",
    "## 학습데이터를 사용해 w를 업데이트하고\n",
    "sess.run(update, feed_dict={x:x_data, y:y_data})\n",
    "## 업데이트이후의 cost와 w를 출력하기\n",
    "c,w_ = sess.run([cost, w], feed_dict={x:x_data, y:y_data})\n",
    "print(c, w_)\n",
    "\n",
    "## 학습데이터를 사용해 w를 업데이트하고\n",
    "sess.run(update, feed_dict={x:x_data, y:y_data})\n",
    "## 업데이트이후의 cost와 w를 출력하기\n",
    "c,w_ = sess.run([cost, w], feed_dict={x:x_data, y:y_data})\n",
    "print(c, w_)"
   ]
  },
  {
   "cell_type": "markdown",
   "metadata": {},
   "source": [
    "두번째 업데이트에서 cost는 0.03522947 w는 1.103125, 세번째 업데이트에서 cost는 0.01009246  w는 1.0582812\n",
    "네번째 업데이트에서 cost는 0.008521404  w는 1.0470703  => 업데이트 하면서 cost가 점점주는군"
   ]
  },
  {
   "cell_type": "code",
   "execution_count": 22,
   "metadata": {},
   "outputs": [
    {
     "name": "stdout",
     "output_type": "stream",
     "text": [
      "0 0.43742207 1.2825\n",
      "1 0.03522947 1.103125\n",
      "2 0.01009246 1.0582812\n",
      "3 0.008521404 1.0470703\n",
      "4 0.0084232045 1.0442675\n",
      "5 0.008417085 1.0435668\n",
      "6 0.008416693 1.0433917\n",
      "7 0.008416677 1.043348\n",
      "8 0.008416675 1.043337\n",
      "9 0.008416668 1.0433342\n"
     ]
    }
   ],
   "source": [
    "### 이제 반복문으로 10번 업데이트 해보자\n",
    "sess.run(tf.compat.v1.global_variables_initializer())\n",
    "for i in range(0,10) :  ## 10번이라 range 10\n",
    "    ## 학습데이터를 사용해 w를 업데이트하고\n",
    "    sess.run(update, feed_dict={x:x_data, y:y_data})\n",
    "## 업데이트이후의 cost와 w를 출력하기\n",
    "    c,w_ = sess.run([cost, w], feed_dict={x:x_data, y:y_data})\n",
    "    print(i, c, w_)  # 몇번째 업데이트인가 / cost값이 얼마인가 / 그때 w는 얼마인가"
   ]
  },
  {
   "cell_type": "code",
   "execution_count": 23,
   "metadata": {},
   "outputs": [
    {
     "name": "stdout",
     "output_type": "stream",
     "text": [
      "0 0.43742207 1.2825\n",
      "1 0.03522947 1.103125\n",
      "2 0.01009246 1.0582812\n",
      "3 0.008521404 1.0470703\n",
      "4 0.0084232045 1.0442675\n",
      "5 0.008417085 1.0435668\n",
      "6 0.008416693 1.0433917\n",
      "7 0.008416677 1.043348\n",
      "8 0.008416675 1.043337\n",
      "9 0.008416668 1.0433342\n",
      "10 0.008416667 1.0433335\n",
      "11 0.008416659 1.0433334\n",
      "12 0.008416668 1.0433333\n",
      "13 0.008416668 1.0433333\n",
      "14 0.008416668 1.0433333\n",
      "15 0.008416668 1.0433333\n",
      "16 0.008416668 1.0433333\n",
      "17 0.008416668 1.0433333\n",
      "18 0.008416668 1.0433333\n",
      "19 0.008416668 1.0433333\n"
     ]
    }
   ],
   "source": [
    "### 이제 반복문으로 20번 업데이트 해보자\n",
    "### init이 버전충돌로 안되서 이명령어를 적음\n",
    "sess.run(tf.compat.v1.global_variables_initializer())\n",
    "for i in range(0,20) :  ## 20번이라 range 20\n",
    "    ## 학습데이터를 사용해 w를 업데이트하고\n",
    "    sess.run(update, feed_dict={x:x_data, y:y_data})\n",
    "## 업데이트이후의 cost와 w를 출력하기\n",
    "    c,w_ = sess.run([cost, w], feed_dict={x:x_data, y:y_data})\n",
    "    print(i, c, w_)  # 몇번째 업데이트인가 / cost값이 얼마인가 / 그때 w는 얼마인가"
   ]
  },
  {
   "cell_type": "markdown",
   "metadata": {},
   "source": [
    "12번째 업데이트 이후로는 cost와 w가 더이상 줄지않음 -> 학습을 계속해도 cost가 낮아지는건 아님"
   ]
  },
  {
   "cell_type": "code",
   "execution_count": 30,
   "metadata": {},
   "outputs": [
    {
     "data": {
      "text/plain": [
       "<matplotlib.legend.Legend at 0x19fc871d898>"
      ]
     },
     "execution_count": 30,
     "metadata": {},
     "output_type": "execute_result"
    },
    {
     "data": {
      "image/png": "[encoded data removed]",
      "text/plain": [
       "<Figure size 432x288 with 1 Axes>"
      ]
     },
     "metadata": {
      "needs_background": "light"
     },
     "output_type": "display_data"
    }
   ],
   "source": [
    "## cost와 gradient의 변화를 그래프로 보자구\n",
    "sess.run((tf.compat.v1.global_variables_initializer()))\n",
    "cs = []\n",
    "gs =[]\n",
    "for i in range(0, 10):\n",
    "         _, c, g = sess.run([update,cost,gradient], feed_dict={x: x_data, y: y_data})\n",
    "         cs.append(c)\n",
    "         gs.append(g)\n",
    "plt.plot(cs)\n",
    "plt.plot(gs)\n",
    "plt.legend([\"cost\",\"gradient\"])"
   ]
  },
  {
   "cell_type": "code",
   "execution_count": 34,
   "metadata": {},
   "outputs": [
    {
     "name": "stdout",
     "output_type": "stream",
     "text": [
      "0 6.8725004\n",
      "1 0.43742207\n",
      "2 0.03522947\n",
      "3 0.01009246\n",
      "4 0.008521404\n",
      "5 0.0084232045\n",
      "6 0.008417085\n"
     ]
    }
   ],
   "source": [
    "## 어느정도후에 학습(업데이트)가 멈추도록 지정해주기(계속해봤자 일정 업데이트이후는 동일한값이니까)\n",
    "### init이 버전충돌로 안되서 이명령어를 적음\n",
    "sess.run(tf.compat.v1.global_variables_initializer())\n",
    "\n",
    "oldc = 1000  ## 이전 cost의 값\n",
    "for i in range(0,1000):  ## 내가 1000번 업데이트 하라고 했지만 실제 작동하면 for조건때문에 결과가 6번에서 멈춤\n",
    "    _, c, g = sess.run([update,cost,gradient], feed_dict={x: x_data, y: y_data})\n",
    "    print(i,c)\n",
    "    if oldc - c < 0.00001 : break  ## 이전 cost와 이번 새로운 cost의 차이가 0.00001보다 작으면 멈추기\n",
    "    oldc = c\n",
    "    "
   ]
  },
  {
   "cell_type": "code",
   "execution_count": 35,
   "metadata": {},
   "outputs": [
    {
     "name": "stdout",
     "output_type": "stream",
     "text": [
      "<tf.Variable 'Variable:0' shape=() dtype=float32_ref>\n"
     ]
    },
    {
     "data": {
      "text/plain": [
       "[<matplotlib.lines.Line2D at 0x19fc875ec88>]"
      ]
     },
     "execution_count": 35,
     "metadata": {},
     "output_type": "execute_result"
    },
    {
     "data": {
      "image/png": "[encoded data removed]",
      "text/plain": [
       "<Figure size 432x288 with 1 Axes>"
      ]
     },
     "metadata": {
      "needs_background": "light"
     },
     "output_type": "display_data"
    }
   ],
   "source": [
    "# 학습데이터 표시하기\n",
    "plt.xlabel(\"x\")\n",
    "plt.ylabel(\"y\")\n",
    "plt.plot(x_data, y_data, 'r^')  ## 점을 빨간색 ^로 그려라\n",
    "\n",
    "##  업데이트된 w_ 를가지고 추정해서 학습데이터를 선으로 이은거\n",
    "w_ = sess.run(w)\n",
    "print(w)\n",
    "plt.plot(x_data, np.array(x_data)*w_, 'b')"
   ]
  },
  {
   "cell_type": "markdown",
   "metadata": {},
   "source": [
    "[분석1- w초기값에 따른 cost변화] 최적의 w가 1근처이기때문에 가까운 w=1.2의 cost는 거의 바로 수렴됨 ( 멀수록 루프를 더 돌고 수렴함, 빨간색은 8번하고 수렴하게됨)"
   ]
  },
  {
   "cell_type": "code",
   "execution_count": 66,
   "metadata": {},
   "outputs": [],
   "source": [
    "## 이건 tensorflow의 버전문제로 placeholder가 구현안되서 넣어준거\n",
    "import tensorflow.compat.v1 as tf\n",
    "tf.disable_v2_behavior()\n"
   ]
  },
  {
   "cell_type": "code",
   "execution_count": 70,
   "metadata": {
    "scrolled": true
   },
   "outputs": [
    {
     "data": {
      "text/plain": [
       "<matplotlib.legend.Legend at 0x19fc9ee7c50>"
      ]
     },
     "execution_count": 70,
     "metadata": {},
     "output_type": "execute_result"
    },
    {
     "data": {
      "image/png": "[encoded data removed]",
      "text/plain": [
       "<Figure size 432x288 with 1 Axes>"
      ]
     },
     "metadata": {
      "needs_background": "light"
     },
     "output_type": "display_data"
    }
   ],
   "source": [
    "## w초기값에 따른 cost변화\n",
    "\n",
    "x_data =[1.0,2,3,4]\n",
    "y_data =[1.1,2.2,3,4.2]\n",
    "\n",
    "\n",
    "## 이제 w가 내부적으로 업데이트 되어야하는 학습파라미터임, 그래서 변수타입을줌\n",
    "## 기울기 초기값을 2.0 뿐만아니라 여러개로 줍니다.. ws\n",
    "ws = [-3.0,3.0,0.2,1.2]\n",
    "colors = [\"r\",\"g\",\"b\",\"k\"]\n",
    "\n",
    "\n",
    "for i in range(4) :\n",
    "    w = tf.Variable(ws[i])\n",
    "    x = tf.placeholder(tf.float32)\n",
    "    y = tf.placeholder(tf.float32)\n",
    "## 학습모델정의\n",
    "    hypothesis = w*x  # 예측값 h는 w와 x를 곱한값\n",
    "## error = hypothesis - y\n",
    "    cost =tf.reduce_mean(tf.square(hypothesis - y))\n",
    "## 학습률 알파를 0.1로 설정했음    \n",
    "    learning_rate = 0.1 \n",
    "## 모든 w지점에서의 기울기\n",
    "    gradient = tf.reduce_mean((w*x-y)*x)\n",
    "# w = w - 학습율 알파(learning_rate) * gradient\n",
    "    descent = w - learning_rate*gradient\n",
    "    update = w.assign(descent) ## tf에서 호출시 마다 w가 업데이트됨\n",
    "    \n",
    "  \n",
    "    sess.run(tf.global_variables_initializer())\n",
    "\n",
    "    cs = []\n",
    "    for step in range(13):  ## 학습 횟수를 13으로 줌\n",
    "        sess.run(update, feed_dict={x: x_data, y: y_data})\n",
    "        c = sess.run(cost, feed_dict={x: x_data, y: y_data})\n",
    "        cs.append(c)\n",
    "    plt.plot(cs, colors[i])\n",
    "plt.legend(ws)\n",
    "    "
   ]
  },
  {
   "cell_type": "markdown",
   "metadata": {},
   "source": [
    "최적의 w가 1근처이기때문에 가까운 w=1.2의 cost는 거의 바로 수렴됨 ( 멀수록 루프를 더 돌고 수렴함, 빨간색은 8번하고 수렴하게됨)"
   ]
  },
  {
   "cell_type": "markdown",
   "metadata": {},
   "source": [
    "[분석2- 학습률 알파변화에 따른 cost변화] 너무크면 몇번의 학습후 바로수렴, 너무작으면 수렴하지못함"
   ]
  },
  {
   "cell_type": "code",
   "execution_count": 72,
   "metadata": {},
   "outputs": [
    {
     "data": {
      "text/plain": [
       "<matplotlib.legend.Legend at 0x19fcb2ff940>"
      ]
     },
     "execution_count": 72,
     "metadata": {},
     "output_type": "execute_result"
    },
    {
     "data": {
      "image/png": "[encoded data removed]",
      "text/plain": [
       "<Figure size 432x288 with 1 Axes>"
      ]
     },
     "metadata": {
      "needs_background": "light"
     },
     "output_type": "display_data"
    }
   ],
   "source": [
    "## 학습률 알파변화 따른 cost변화\n",
    "\n",
    "x_data =[1.0,2,3,4]\n",
    "y_data =[1.1,2.2,3,4.2]\n",
    "\n",
    "\n",
    "## 이제 w가 내부적으로 업데이트 되어야하는 학습파라미터임, 그래서 변수타입을줌\n",
    "## 학습율을 여러개로 줍니다..irs\n",
    "Irs = [0.1,0.01,0.001]\n",
    "colors = [\"r\",\"g\",\"b\"]\n",
    "\n",
    "\n",
    "for i in range(3) : ## 3개의 학습율중에\n",
    "    w = tf.Variable(3.0)  ## 이번에 w는 고정\n",
    "    x = tf.placeholder(tf.float32)\n",
    "    y = tf.placeholder(tf.float32)\n",
    "## 학습모델정의\n",
    "    hypothesis = w*x  # 예측값 h는 w와 x를 곱한값\n",
    "## error = hypothesis - y\n",
    "    cost =tf.reduce_mean(tf.square(hypothesis - y))\n",
    "## 학습률 알파를 여러개 irs로 설정했음    \n",
    "    learning_rate = Irs[i] \n",
    "## 모든 w지점에서의 기울기\n",
    "    gradient = tf.reduce_mean((w*x-y)*x)\n",
    "# w = w - 학습율 알파(learning_rate) * gradient\n",
    "    descent = w - learning_rate*gradient\n",
    "    update = w.assign(descent) ## tf에서 호출시 마다 w가 업데이트됨\n",
    "    \n",
    "  \n",
    "    sess.run(tf.global_variables_initializer())\n",
    "\n",
    "    cs = []\n",
    "    for step in range(30):  ## 학습횟수를 30으로 줌\n",
    "        sess.run(update, feed_dict={x: x_data, y: y_data})\n",
    "        c = sess.run(cost, feed_dict={x: x_data, y: y_data})\n",
    "        cs.append(c)\n",
    "    plt.plot(cs, colors[i])\n",
    "plt.legend(Irs)\n",
    "    "
   ]
  },
  {
   "cell_type": "markdown",
   "metadata": {},
   "source": [
    "학습율이 큰 빨간선은  빠르게 수렴\n",
    "학습율이 0.01인 초록선은 느리지만 완만한 학습곡선을 그리며 수렴함\n",
    "학습율이 작은 파란선은 꾸준히 cost가 작아지지만, 학습수가 30일때 수렴못함"
   ]
  },
  {
   "cell_type": "markdown",
   "metadata": {},
   "source": [
    "[분석3- 학습횟수 변화에따른 cost변화] 학습율이 적어도 완만한 학습곡선을 그리며 수렴함. 학습률이 작으면 느리게 수렴하니까 학습을 많이해야하고, 학습율이 빠른함수는 빠르게 수렴하니까 최저점을 지날수 있음"
   ]
  },
  {
   "cell_type": "code",
   "execution_count": 85,
   "metadata": {},
   "outputs": [
    {
     "data": {
      "text/plain": [
       "<matplotlib.legend.Legend at 0x19fcb2eb9e8>"
      ]
     },
     "execution_count": 85,
     "metadata": {},
     "output_type": "execute_result"
    },
    {
     "data": {
      "image/png": "[encoded data removed]",
      "text/plain": [
       "<Figure size 432x288 with 1 Axes>"
      ]
     },
     "metadata": {
      "needs_background": "light"
     },
     "output_type": "display_data"
    }
   ],
   "source": [
    "## 학습률 알파변화 따른 cost변화\n",
    "\n",
    "x_data =[1.0,2,3,4]\n",
    "y_data =[1.1,2.2,3,4.2]\n",
    "\n",
    "\n",
    "## 이제 w가 내부적으로 업데이트 되어야하는 학습파라미터임, 그래서 변수타입을줌\n",
    "## 학습율을 여러개로 줍니다..irs\n",
    "Irs = [0.1,0.01,0.001]\n",
    "colors = [\"r\",\"g\",\"b\"]\n",
    "\n",
    "\n",
    "for i in range(3) : ## 3개의 학습율중에\n",
    "    w = tf.Variable(3.0)  ## 이번에 w는 고정\n",
    "    x = tf.placeholder(tf.float32)\n",
    "    y = tf.placeholder(tf.float32)\n",
    "## 학습모델정의\n",
    "    hypothesis = w*x  # 예측값 h는 w와 x를 곱한값\n",
    "## error = hypothesis - y\n",
    "    cost =tf.reduce_mean(tf.square(hypothesis - y))\n",
    "## 학습률 알파를 여러개 irs로 설정했음    \n",
    "    learning_rate = Irs[i] \n",
    "## 모든 w지점에서의 기울기\n",
    "    gradient = tf.reduce_mean((w*x-y)*x)\n",
    "# w = w - 학습율 알파(learning_rate) * gradient\n",
    "    descent = w - learning_rate*gradient\n",
    "    update = w.assign(descent) ## tf에서 호출시 마다 w가 업데이트됨\n",
    "    \n",
    "  \n",
    "    sess.run(tf.global_variables_initializer())\n",
    "\n",
    "    cs = []\n",
    "    for step in range(300):  ## 학습횟수를 30으로 줌\n",
    "        sess.run(update, feed_dict={x: x_data, y: y_data})\n",
    "        c = sess.run(cost, feed_dict={x: x_data, y: y_data})\n",
    "        cs.append(c)\n",
    "    plt.plot(cs, colors[i])\n",
    "plt.legend(Irs)\n",
    "    "
   ]
  },
  {
   "cell_type": "markdown",
   "metadata": {},
   "source": [
    "학습율이 적어도 완만한 학습곡선을 그리며 수렴함. 학습률이 작으면 느리게 수렴하니까 학습을 많이해야하고, 학습율이 빠른함수는 빠르게 수렴하니까 최저점을 지날수 있음"
   ]
  },
  {
   "cell_type": "markdown",
   "metadata": {},
   "source": [
    "tf함수를 이용해 cost와 학습율만 정의해서 구현가능_gradientdecesentOptimizer"
   ]
  },
  {
   "cell_type": "code",
   "execution_count": 138,
   "metadata": {},
   "outputs": [
    {
     "ename": "AttributeError",
     "evalue": "module 'tensorflow_core.compat.v1.compat' has no attribute 'v1'",
     "output_type": "error",
     "traceback": [
      "\u001b[1;31m---------------------------------------------------------------------------\u001b[0m",
      "\u001b[1;31mAttributeError\u001b[0m                            Traceback (most recent call last)",
      "\u001b[1;32m<ipython-input-138-dea844a83ee8>\u001b[0m in \u001b[0;36m<module>\u001b[1;34m\u001b[0m\n\u001b[0;32m     10\u001b[0m \u001b[0mlearning_rate\u001b[0m \u001b[1;33m=\u001b[0m \u001b[1;36m0.1\u001b[0m\u001b[1;33m\u001b[0m\u001b[1;33m\u001b[0m\u001b[0m\n\u001b[0;32m     11\u001b[0m \u001b[1;33m\u001b[0m\u001b[0m\n\u001b[1;32m---> 12\u001b[1;33m \u001b[0mupdate\u001b[0m \u001b[1;33m=\u001b[0m \u001b[0mtf\u001b[0m\u001b[1;33m.\u001b[0m\u001b[0mcompat\u001b[0m\u001b[1;33m.\u001b[0m\u001b[0mv1\u001b[0m\u001b[1;33m.\u001b[0m\u001b[0mtrain\u001b[0m\u001b[1;33m.\u001b[0m\u001b[0mGradientDescentOptimizer\u001b[0m\u001b[1;33m(\u001b[0m\u001b[0mlearning_rate\u001b[0m\u001b[1;33m,\u001b[0m \u001b[0muse_locking\u001b[0m\u001b[1;33m=\u001b[0m\u001b[1;32mFalse\u001b[0m\u001b[1;33m)\u001b[0m\u001b[1;33m\u001b[0m\u001b[1;33m\u001b[0m\u001b[0m\n\u001b[0m\u001b[0;32m     13\u001b[0m \u001b[1;33m\u001b[0m\u001b[0m\n\u001b[0;32m     14\u001b[0m \u001b[0msess\u001b[0m\u001b[1;33m.\u001b[0m\u001b[0mrun\u001b[0m\u001b[1;33m(\u001b[0m\u001b[0mtf\u001b[0m\u001b[1;33m.\u001b[0m\u001b[0mglobal_variables_initializer\u001b[0m\u001b[1;33m(\u001b[0m\u001b[1;33m)\u001b[0m\u001b[1;33m)\u001b[0m\u001b[1;33m\u001b[0m\u001b[1;33m\u001b[0m\u001b[0m\n",
      "\u001b[1;31mAttributeError\u001b[0m: module 'tensorflow_core.compat.v1.compat' has no attribute 'v1'"
     ]
    }
   ],
   "source": [
    "## 학습률 알파변화 따른 cost변화\n",
    "x_data =[1.0,2,3,4]\n",
    "y_data =[1.1,2.2,3,4.2]\n",
    "\n",
    "w = tf.Variable(0.0)\n",
    "b = tf.Variable(0.0)\n",
    "hypothesis = w*x_data+b\n",
    "\n",
    "cost =tf.reduce_mean(tf.square(hypothesis - y))\n",
    "learning_rate = 0.1\n",
    "\n",
    "update = tf.compat.v1.train.GradientDescentOptimizer(learning_rate, use_locking=False)\n",
    "\n",
    "sess.run(tf.global_variables_initializer())\n",
    "\n",
    "cs = [] \n",
    "for step in range(100):## 학습횟수를 100으로 줌\n",
    "    c, _ = sess.run([cost,update])\n",
    "    cs.append(c)\n",
    "w_ ,b_= sess.run([w, b])\n",
    "print(w_,b_,c)\n",
    "plt.plot(cs)"
   ]
  },
  {
   "cell_type": "code",
   "execution_count": null,
   "metadata": {},
   "outputs": [],
   "source": [
    "init =tf.compat.v1.global_variables_initializer()"
   ]
  }
 ],
 "metadata": {
  "kernelspec": {
   "display_name": "study",
   "language": "python",
   "name": "study"
  },
  "language_info": {
   "codemirror_mode": {
    "name": "ipython",
    "version": 3
   },
   "file_extension": ".py",
   "mimetype": "text/x-python",
   "name": "python",
   "nbconvert_exporter": "python",
   "pygments_lexer": "ipython3",
   "version": "3.6.12"
  }
 },
 "nbformat": 4,
 "nbformat_minor": 4
}
