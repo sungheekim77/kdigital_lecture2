{
 "cells": [
  {
   "cell_type": "markdown",
   "metadata": {},
   "source": [
    "이자율과 실업에 대한 주가 예측 모델은 무엇인가"
   ]
  },
  {
   "cell_type": "code",
   "execution_count": 3,
   "metadata": {},
   "outputs": [
    {
     "name": "stdout",
     "output_type": "stream",
     "text": [
      "WARNING:tensorflow:From C:\\Users\\Mr. Jae-Hong Seo\\anaconda3\\envs\\study\\lib\\site-packages\\tensorflow_core\\python\\compat\\v2_compat.py:65: disable_resource_variables (from tensorflow.python.ops.variable_scope) is deprecated and will be removed in a future version.\n",
      "Instructions for updating:\n",
      "non-resource variables are not supported in the long term\n"
     ]
    }
   ],
   "source": [
    "import tensorflow.compat.v1 as tf\n",
    "\n",
    "tf.disable_v2_behavior()\n",
    "\n",
    "import numpy as np"
   ]
  },
  {
   "cell_type": "code",
   "execution_count": 8,
   "metadata": {},
   "outputs": [
    {
     "data": {
      "text/plain": [
       "[<matplotlib.lines.Line2D at 0x202d46883c8>]"
      ]
     },
     "execution_count": 8,
     "metadata": {},
     "output_type": "execute_result"
    },
    {
     "data": {
      "image/png": "[encoded data removed]",
      "text/plain": [
       "<Figure size 432x288 with 2 Axes>"
      ]
     },
     "metadata": {
      "needs_background": "light"
     },
     "output_type": "display_data"
    }
   ],
   "source": [
    "Interest_Rate = np.array([[2.75,2.5,2.5,2.5,2.5,2.5,2.5,2.25,2.25,2.25,2,\n",
    "                         2,1.75,1.75,1.75,1.75,1.75,1.75,1.75,1.75,1.75,1.75,1.75,1.75]],dtype=np.float32)\n",
    "Unemplyment_Rate = np.array([[5.3,5.3,5.3,5.4,5.6,5.5,5.5,5.7,5.9,6,6.1,6.1,\n",
    "                            5.9,6.5,8,9,6.1,5.9,6.2,6.2,5,1,6.1,5]], dtype=np.float32)\n",
    "Stock_Index_Price =np.array([[1464,1394,1357,1293,1256,1254,1234,1195,1159,1167,1130,1075,1047,\n",
    "                            956,943,958,971,949,884,866,876,822,704,719]], dtype=np.float32)\n",
    "import matplotlib.pyplot as plt\n",
    "## 지금 이자율과 실업율의 단위가 달라서 그래프가 2개 나와야함\n",
    "## subplot은 하나에 두개의 그림.. 즉 여기서는 1,2(한줄에 두개그래프) 중에 1번그래프\n",
    "plt.subplot(1,2,1)\n",
    "## 데이터가 np.array즉 행렬이기에 그래프는 그냥 1차원으로 그릴려고 flatten을 적어줌\n",
    "plt.plot(Interest_Rate.flatten(), Stock_Index_Price.flatten(), 'ro')\n",
    "## subplot은 하나에 두개의 그림.. 즉 여기서는 1,2(한줄에 두개그래프) 중에 2번그래프\n",
    "plt.subplot(1,2,2)\n",
    "plt.plot(Unemplyment_Rate.flatten(), Stock_Index_Price.flatten(), 'go')"
   ]
  },
  {
   "cell_type": "markdown",
   "metadata": {},
   "source": [
    "이자율은 주식가격과 positive, 실업율은 negative관계를 이루고있군"
   ]
  },
  {
   "cell_type": "code",
   "execution_count": 14,
   "metadata": {},
   "outputs": [
    {
     "name": "stdout",
     "output_type": "stream",
     "text": [
      "[[ 560.59326]\n",
      " [  20.60955]\n",
      " [-205.53998]]\n"
     ]
    }
   ],
   "source": [
    "## 이건 tensorflow의 버전문제로 sess가 구현안되서 넣어준거\n",
    "import tensorflow as tf\n",
    "tf.compat.v1.disable_eager_execution()\n",
    "sess=tf.compat.v1.Session()\n",
    "\n",
    "\n",
    "## 같은 형태로 지정된 열벡터 T만들기\n",
    "T = tf.ones([1,24], dtype=tf.float32)\n",
    "## 학습데이터를 공급받을 하나의 placeholder 지정\n",
    "y = tf.constant(Stock_Index_Price, shape = (24,1), dtype=tf.float32)\n",
    "## 이자율과, 실업,t가 concate해서 A생성\n",
    "A = tf.transpose(tf.concat([Interest_Rate, Unemplyment_Rate, T],0))\n",
    "## A는 정방행렬이 아니기 때문에 의사역행렬에 y를 곱해서 \n",
    "## 두개의기울기와 절편b를 구해야함\n",
    "pinv = tf.matmul(tf.linalg.inv(tf.matmul(tf.transpose(A), A)), tf.transpose(A))\n",
    "w = tf.matmul(pinv,y)\n",
    "print(sess.run(w))  ## 3*1 행렬\n",
    "\n",
    "\n",
    "\n"
   ]
  },
  {
   "cell_type": "markdown",
   "metadata": {},
   "source": [
    "위에 두개는 기울기, 마지막거는 Y절편"
   ]
  },
  {
   "cell_type": "code",
   "execution_count": 17,
   "metadata": {},
   "outputs": [
    {
     "name": "stdout",
     "output_type": "stream",
     "text": [
      "[[2781.265 ]\n",
      " [2779.2039]\n",
      " [2781.265 ]\n",
      " [2837.3242]]\n",
      "[-2.0610352]\n",
      "[56.059326]\n"
     ]
    }
   ],
   "source": [
    "## 이건 tensorflow의 버전문제로 placeholder가 구현안되서 넣어준거\n",
    "import tensorflow.compat.v1 as tf\n",
    "tf.disable_v2_behavior()\n",
    "\n",
    "x = tf.placeholder(tf.float32, shape=(None,3))\n",
    "h = tf.matmul(x,w)\n",
    "## [5.1,6.2,1],[5.1,6.1,1] 실업이 6.2->6.1 된경우\n",
    "## [5.1,6.2,1],[5.2,6.2,1] 이자가 5.1->5.2  된경우 \n",
    "## 행렬 맞출려고 마지막에 다들 1넣음\n",
    "result = sess.run(h, feed_dict={x:[[5.1,6.2,1],[5.1,6.1,1],[5.1,6.2,1],[5.2,6.2,1]]})\n",
    "print(result)\n",
    "\n",
    "print(result[1]-result[0]) # 실업이 6.2->6.1 된경우\n",
    "print(result[3]-result[2]) # 이자가 5.1->5.2  된경우 "
   ]
  },
  {
   "cell_type": "markdown",
   "metadata": {},
   "source": [
    "[[2781.265 ]  # [5.1,6.2,1]의 주가지수 2781.265\n",
    "\n",
    " [2779.2039]  #[5.1,6.1,1]\n",
    " \n",
    " [2781.265 ]   #[5.1,6.2,1]\n",
    " \n",
    " [2837.3242]] # [5.2,6.2,1]\n",
    "\n",
    "[-2.0610352]  ##즉 실업이 0.1 %떨어지면 주가가 2포인트 하락\n",
    "[56.059326]  ## 이자가 0.1% 상승하면 주가가 34 포인트 상승"
   ]
  },
  {
   "cell_type": "code",
   "execution_count": null,
   "metadata": {},
   "outputs": [],
   "source": []
  }
 ],
 "metadata": {
  "kernelspec": {
   "display_name": "study",
   "language": "python",
   "name": "study"
  },
  "language_info": {
   "codemirror_mode": {
    "name": "ipython",
    "version": 3
   },
   "file_extension": ".py",
   "mimetype": "text/x-python",
   "name": "python",
   "nbconvert_exporter": "python",
   "pygments_lexer": "ipython3",
   "version": "3.6.12"
  }
 },
 "nbformat": 4,
 "nbformat_minor": 4
}
