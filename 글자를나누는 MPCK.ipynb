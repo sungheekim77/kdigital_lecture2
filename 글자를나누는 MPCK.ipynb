{
 "cells": [
  {
   "cell_type": "code",
   "execution_count": null,
   "metadata": {},
   "outputs": [],
   "source": [
    "import sys\n",
    "print(sys.executable)\n"
   ]
  },
  {
   "cell_type": "code",
   "execution_count": null,
   "metadata": {},
   "outputs": [],
   "source": [
    "from konlpy.tag import Mecab\n",
    "mecab = Mecab()"
   ]
  },
  {
   "cell_type": "code",
   "execution_count": null,
   "metadata": {},
   "outputs": [],
   "source": [
    "print(mecab.morphs(u'영등포구청역에 있는 맛집을 알려주세요.'))"
   ]
  },
  {
   "cell_type": "code",
   "execution_count": null,
   "metadata": {
    "scrolled": false
   },
   "outputs": [],
   "source": [
    "from ekonlpy.sentiment import MPTK\n"
   ]
  },
  {
   "cell_type": "code",
   "execution_count": null,
   "metadata": {},
   "outputs": [],
   "source": [
    "mpck = MPTK()\n",
    "text = \"다음과 같이 numpy를 다운그래이드하시요\"\n",
    "tokens = mpck.tokenize(text)\n"
   ]
  },
  {
   "cell_type": "code",
   "execution_count": 4,
   "metadata": {},
   "outputs": [],
   "source": [
    "text = \"일부 위원은 비우량물 회사채의 신용스프레드가 우량물에 비해 상대적으로 더디게 개선되고 있는 점, 그리고 비록 최근 증가 규모가 다소 축소되었지만 기업대출이 중소기업대출을 중심으로 증가세를 지속하고 있는 점에 주목할 필요가있다는 의견을 제시하였음.\""
   ]
  },
  {
   "cell_type": "code",
   "execution_count": 6,
   "metadata": {
    "scrolled": true
   },
   "outputs": [
    {
     "name": "stdout",
     "output_type": "stream",
     "text": [
      "['비우량/NNG', '회사채/NNG', '신용스프레드/NNG', '우량등급/NNG', '비해/VV', '상대적/VAX', '더디/VA', '개선/NNG', '되/XSV', '점/NNG', '비록/MAG', '증가/NNG', '규모/NNG', '다소/MAG', '축소/NNG', '되/XSV', '기업/NNG', '대출/NNG', '중소기업/NNG', '대출/NNG', '중심/NNG', '증가/NNG', '지속/NNG', '점/NNG', '주목/NNG', '하/VV', '필요/NNG', '있/VA', '의견/NNG', '제시/NNG', '하/XSV']\n",
      "['더디/VA;개선/NNG']\n"
     ]
    }
   ],
   "source": [
    "from ekonlpy.sentiment import MPCK\n",
    "mpck = MPCK()\n",
    "tokens = mpck.tokenize(text)\n",
    "ngrams = mpck.ngramize(tokens)\n",
    "\n",
    "print(tokens)\n"
   ]
  },
  {
   "cell_type": "code",
   "execution_count": 7,
   "metadata": {},
   "outputs": [
    {
     "name": "stdout",
     "output_type": "stream",
     "text": [
      "['더디/VA;개선/NNG']\n"
     ]
    }
   ],
   "source": [
    "print(ngrams)"
   ]
  },
  {
   "cell_type": "code",
   "execution_count": null,
   "metadata": {},
   "outputs": [],
   "source": []
  }
 ],
 "metadata": {
  "kernelspec": {
   "display_name": "study",
   "language": "python",
   "name": "study"
  },
  "language_info": {
   "codemirror_mode": {
    "name": "ipython",
    "version": 3
   },
   "file_extension": ".py",
   "mimetype": "text/x-python",
   "name": "python",
   "nbconvert_exporter": "python",
   "pygments_lexer": "ipython3",
   "version": "3.6.12"
  }
 },
 "nbformat": 4,
 "nbformat_minor": 4
}
